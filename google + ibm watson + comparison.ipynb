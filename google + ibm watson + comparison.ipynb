{
 "cells": [
  {
   "cell_type": "markdown",
   "metadata": {},
   "source": [
    "# API"
   ]
  },
  {
   "cell_type": "markdown",
   "metadata": {},
   "source": [
    "## IBM Watson"
   ]
  },
  {
   "cell_type": "markdown",
   "metadata": {},
   "source": [
    "### Documentation :\n",
    "For audio types : http://watson-developer-cloud.github.io/node-sdk/master/classes/speechtotextv1.html#audio-formats-content-types  \n",
    "For language models : https://cloud.ibm.com/docs/speech-to-text?topic=speech-to-text-models#:~:text=The%20IBM%20Watson%E2%84%A2%20Speech,at%20which%20it%20is%20sampled.  "
   ]
  },
  {
   "cell_type": "markdown",
   "metadata": {},
   "source": [
    "Seems to work better with **.mp3** files than **.wav** for example"
   ]
  },
  {
   "cell_type": "raw",
   "metadata": {},
   "source": [
    "!pip install ibm_watson"
   ]
  },
  {
   "cell_type": "code",
   "execution_count": 2,
   "metadata": {},
   "outputs": [],
   "source": [
    "from ibm_watson import SpeechToTextV1\n",
    "from ibm_cloud_sdk_core.authenticators import IAMAuthenticator"
   ]
  },
  {
   "cell_type": "code",
   "execution_count": 3,
   "metadata": {},
   "outputs": [],
   "source": [
    "apikey = \"_I97e0HrO3bRZoQ-R5whIAIElGbgC6lM3VLvhuxvLMzx\"\n",
    "url = \"https://api.eu-gb.speech-to-text.watson.cloud.ibm.com/instances/0539da85-8f81-4a06-a3ed-837ed5039c1d\""
   ]
  },
  {
   "cell_type": "code",
   "execution_count": 4,
   "metadata": {},
   "outputs": [],
   "source": [
    "authenticator = IAMAuthenticator(apikey=apikey)\n",
    "stt = SpeechToTextV1(authenticator=authenticator)\n",
    "stt.set_service_url(url)"
   ]
  },
  {
   "cell_type": "raw",
   "metadata": {},
   "source": [
    "with open(\"Enregistrement 1 - IA - FR.wav\", 'rb') as audio_file: \n",
    "    res = stt.recognize(audio=audio_file, content_type='audio/wav', model='fr-FR_NarrowbandModel', continuous=True).get_result()"
   ]
  },
  {
   "cell_type": "code",
   "execution_count": 8,
   "metadata": {},
   "outputs": [],
   "source": [
    "def watson_api(audio_file_path, audio_type, lang_model):\n",
    "    text = \"\"\n",
    "    with open(audio_file_path, 'rb') as audio_file: \n",
    "        res = stt.recognize(audio=audio_file, content_type=audio_type, model=lang_model, continuous=True).get_result()\n",
    "    all_res = res['results']\n",
    "    for res in all_res:\n",
    "        text = f\"{text}{res['alternatives'][0]['transcript']}\" #ajouter un saut de ligne à la fin ?\n",
    "    return text"
   ]
  },
  {
   "cell_type": "code",
   "execution_count": 9,
   "metadata": {},
   "outputs": [
    {
     "data": {
      "text/plain": [
       "\"hi guys I'm Emily \""
      ]
     },
     "execution_count": 9,
     "metadata": {},
     "output_type": "execute_result"
    }
   ],
   "source": [
    "watson_api(\"Audio_files/test-us.mp3\", 'audio/mp3', 'en-US_NarrowbandModel')"
   ]
  },
  {
   "cell_type": "code",
   "execution_count": 10,
   "metadata": {},
   "outputs": [
    {
     "data": {
      "text/plain": [
       "'bonjour comment allez vous '"
      ]
     },
     "execution_count": 10,
     "metadata": {},
     "output_type": "execute_result"
    }
   ],
   "source": [
    "watson_api(\"Audio_files/test-fr.mp3\", 'audio/mp3', 'fr-FR_NarrowbandModel')"
   ]
  },
  {
   "cell_type": "code",
   "execution_count": 12,
   "metadata": {},
   "outputs": [
    {
     "data": {
      "text/plain": [
       "\"salut les vingt et un ans et puis qu on te pas l'école supérieure d'ingénieurs léonard de vinci à courbevoie je suis étudiant en informatique big data les objets connectés les six actuellement en cinquième annie et j'espère valider mon année je trouve également que je suis un apprentissage dans une entreprise du nom de nokia \""
      ]
     },
     "execution_count": 12,
     "metadata": {},
     "output_type": "execute_result"
    }
   ],
   "source": [
    "watson_api(\"Audio_files/test presentation.mp3\", 'audio/mp3', 'fr-FR_NarrowbandModel')"
   ]
  },
  {
   "cell_type": "code",
   "execution_count": 13,
   "metadata": {},
   "outputs": [
    {
     "data": {
      "text/plain": [
       "\"les sanglots longs des violons de l'automne blessent mon coeur win hlaing coeur monotone tout suppos qu'on ait blême en son honneur je me souviens des jours anciens ils pleurent je m'en vais au vent mauvais semant portent des sacs de la pareille à une meilleure \""
      ]
     },
     "execution_count": 13,
     "metadata": {},
     "output_type": "execute_result"
    }
   ],
   "source": [
    "watson_api(\"Audio_files/Les sanglots longs des violons.mp3\", 'audio/mp3', 'fr-FR_NarrowbandModel')"
   ]
  },
  {
   "cell_type": "raw",
   "metadata": {},
   "source": [
    "watson_api(\"Audio_files/231_-_Society (mp3cut.net).wav\", 'audio/wav', 'en-GB_NarrowbandModel')\n",
    "\n",
    "#returns :\n",
    "ApiException: Error: <HTML><HEAD>\n",
    "<TITLE>Internal Server Error</TITLE>\n",
    "</HEAD><BODY>\n",
    "<H1>Internal Server Error - Write</H1>\n",
    "The server encountered an internal error or misconfiguration and was unable to\n",
    "complete your request.<P>\n",
    "Reference&#32;&#35;4&#46;1c05d517&#46;1608206154&#46;6320241e\n",
    "</BODY></HTML>\n",
    ", Code: 503"
   ]
  },
  {
   "cell_type": "code",
   "execution_count": 23,
   "metadata": {},
   "outputs": [],
   "source": [
    "society_script_watson = watson_api(\"Audio_files/231_-_Society (mp3cut.net).mp3\", 'audio/mp3', 'en-GB_NarrowbandModel')"
   ]
  },
  {
   "cell_type": "code",
   "execution_count": 25,
   "metadata": {},
   "outputs": [
    {
     "data": {
      "text/plain": [
       "\"if we've just blown your ears off welcome to English across the pond the place on the internet for all your English language needs we are teachers we are English teachers we are English language teachers which are native speaking English language a lot of adjectives in it we are native speaking English language teachers I come from England I speak British English but the same English that is spoken by the queen good afternoon everybody I'm done hello hello I am I also okay I got you know the house going to try to say I speak the queen's English as well yes but I don't know because my name is Jennifer in ice I speak American I'm from the US so speak American English hello hi how are you how's life great well can you to record this episode I think it's going to be excited I guess talk about coop in the compound before we get into the opposite just to let you know everybody yes we hear every Friday this is a podcast to help you with your English we also have membership as well I've just been looking through a telegram group and I noted down this week we have had posts in our telegram group from members in Brazil Italy Poland Egypt Chile and Switzerland Hey Bruno %HESITATION so it really is a global community if you become a member and all of these beautiful people who've contributed this week have done so in English of course I may have the opportunity maybe where they're having breakfast maybe when they're just lounging around in the evening in their PJ's to get the chance the opportunity to communicate in \""
      ]
     },
     "execution_count": 25,
     "metadata": {},
     "output_type": "execute_result"
    }
   ],
   "source": [
    "society_script_watson"
   ]
  },
  {
   "cell_type": "code",
   "execution_count": 43,
   "metadata": {},
   "outputs": [],
   "source": [
    "speech_benedict_script = watson_api(\n",
    "    \"Audio_files/20190111 ENGLISH SPEECH _ BENEDICT CUMBERBATCH - Just Do It! (English Subtitles).mp3\",\n",
    "    'audio/mp3',\n",
    "    'en-US_NarrowbandModel'\n",
    ")"
   ]
  },
  {
   "cell_type": "code",
   "execution_count": 44,
   "metadata": {},
   "outputs": [
    {
     "data": {
      "text/plain": [
       "\"%HESITATION YVR April fourteenth almost a month since you wrote to me and you were possibly forgotten your state of mind I doubt it though seem the same as always being you hate every minute of it don't learn to say **** you to the world every once in a while you have every right to just stop thank you worrying looking over your shoulder wondering doubting searing hurting hoping for some easy way out struggling grasping confusing itching scratching mumbling bumbling grumbling humbling stumbling no I'm calling rambling gambling tumbling scrambling scrambling moaning recalling no sticking now James told poking her pointing the way speaking while I'm waiting small stepping evil eye and back scratching searching perching biz marching grinding grinding grinding away at your or so hope it ends just %HESITATION from your description for what I know what your previous work in your ability to work you were doing sounds very good drawing clean clear pick crazy like machines larger and bolder real nonsense that sounds fine under full real monsters to more more nonsensical more crazy more machines more breasts **** cons whatever makes him a balcony with not since trying to kill something inside you you're we your humor you belong in the most secret part of you don't worry bout cruel make your own on tool make your own make your own world fear make it work for you draw and paint your fear and anxiety stop worrying about big deep things such as to decide on a purpose and way of life a consistent approach to even some impossible and or even on imagined and you must practice being stupid done %HESITATION I'm thinking M. T. then you will be able to %HESITATION much confidence in you even though you were tormenting yourself the work it was very good try to do something bad do some bad work the worst thing you could think of to see what happens but mainly relax and everything go to hell you are not responsible for the borough you're only responsible for your work so just I don't think that your work has to conform to any preconceived idea former flavor can be anything you wanted to be but if life would be easier for you if you stop working to stop don't punish yourself however I think this is so deeply ingrained in you that it would be better for you to do it seems I do understand your attitude somewhat anyway because I go through a similar process every now and again myself I have an agonizing reappraisal of my work and change everything as much as possible he'd everything I've done to try to do something entirely different and better and maybe that kind of process is necessary to me pushing me on and on and well if you if I could do better than that **** I just did maybe you need your agony to accomplish what you do or maybe it go do you want to do better but it's very painful I know would be better if you have the confidence just to do the stuff and not even think about it thank you read the world's art alone also quit fondling your ego I know that you are anyone can only work so much in the rest of the time you were left with your thoughts but we work or before you work you have to empty your mind to concentrate on what you were doing after you do something it is done and that's that after a while you can see sama better than others but also you can see what direction you're going sure you know all that you also must know that you don't have to justify your work not even to yourself well you know I admire your work greatly and can't understand why you're so bothered by it but you can see the next ones and I can't you also must believe in your ability I think you do so try the most outrageous things you Keren shock yourself you have at your power the ability to do anything I'd like to see your work and will have to be content to wait until Aug or sept seen photos of some of time some things at Lucy's they're very impressive especially the ones with more rigorous form of simple ones I guess it sounds more later on let me know how the shows are going that kind of stuff my work has changed since you left and it's much better I would be having show may fourth twenty ninth the Daniels gallery seventy two east and sixty fourth street where am requires we should be there Mitchell if you both so %HESITATION \""
      ]
     },
     "execution_count": 44,
     "metadata": {},
     "output_type": "execute_result"
    }
   ],
   "source": [
    "speech_benedict_script"
   ]
  },
  {
   "cell_type": "markdown",
   "metadata": {},
   "source": [
    "## Google"
   ]
  },
  {
   "cell_type": "markdown",
   "metadata": {},
   "source": [
    "Supports .wav file exclusively  \n",
    "See after if we can use Google API directly and not from speech_recognition module"
   ]
  },
  {
   "cell_type": "code",
   "execution_count": 15,
   "metadata": {},
   "outputs": [],
   "source": [
    "import requests\n",
    "import speech_recognition as sr\n",
    "#from __future__ import unicode_literals\n",
    "#import youtube_dl\n",
    "#sr.__version__"
   ]
  },
  {
   "cell_type": "code",
   "execution_count": 17,
   "metadata": {},
   "outputs": [],
   "source": [
    "r = sr.Recognizer()\n",
    "def google_api(audio_file_path):\n",
    "    audio = sr.AudioFile(audio_file_path)\n",
    "    with audio as source:\n",
    "        audio_script = r.record(source)\n",
    "    res = r.recognize_google(audio_script)\n",
    "    return res"
   ]
  },
  {
   "cell_type": "code",
   "execution_count": 24,
   "metadata": {},
   "outputs": [],
   "source": [
    "society_script_google = google_api(\"Audio_files/231_-_Society (mp3cut.net).wav\")"
   ]
  },
  {
   "cell_type": "code",
   "execution_count": 26,
   "metadata": {},
   "outputs": [
    {
     "data": {
      "text/plain": [
       "\"if we've just blown your ears off welcome to English across the pond V place on the internet for all your English language needs we are teachers we are English teachers we are English language teachers we are native speaker English language a lot of adjectives in it we are native speaker English language teachers I come from England I speak British English the same English that is spoken by the Queen good afternoon everybody I'm Dan hello I speak the Queen's English as well as life before we get into the episode just to let you know everybody yes we here every Friday this is a podcast to help you with your English we also have membership as well I've just been looking through our telegram group and I noted down this week we have had posts in our telegram group from members in Brazil Italy Poland Egypt chilli and Switzerland Bruno so it really is a global community if you become a member and all of these beautiful people who contributed this week have done so in English of course and they have the opportunity made when they're having breakfast maybe when they're just lounging around in the evening in their PJs to get the chance the opportunity to communicate\""
      ]
     },
     "execution_count": 26,
     "metadata": {},
     "output_type": "execute_result"
    }
   ],
   "source": [
    "society_script_google"
   ]
  },
  {
   "cell_type": "code",
   "execution_count": 50,
   "metadata": {},
   "outputs": [
    {
     "ename": "RequestError",
     "evalue": "recognition request failed: Bad Request",
     "output_type": "error",
     "traceback": [
      "\u001b[1;31m---------------------------------------------------------------------------\u001b[0m",
      "\u001b[1;31mHTTPError\u001b[0m                                 Traceback (most recent call last)",
      "\u001b[1;32m~\\anaconda3\\lib\\site-packages\\speech_recognition\\__init__.py\u001b[0m in \u001b[0;36mrecognize_google\u001b[1;34m(self, audio_data, key, language, show_all)\u001b[0m\n\u001b[0;32m    839\u001b[0m         \u001b[1;32mtry\u001b[0m\u001b[1;33m:\u001b[0m\u001b[1;33m\u001b[0m\u001b[1;33m\u001b[0m\u001b[0m\n\u001b[1;32m--> 840\u001b[1;33m             \u001b[0mresponse\u001b[0m \u001b[1;33m=\u001b[0m \u001b[0murlopen\u001b[0m\u001b[1;33m(\u001b[0m\u001b[0mrequest\u001b[0m\u001b[1;33m,\u001b[0m \u001b[0mtimeout\u001b[0m\u001b[1;33m=\u001b[0m\u001b[0mself\u001b[0m\u001b[1;33m.\u001b[0m\u001b[0moperation_timeout\u001b[0m\u001b[1;33m)\u001b[0m\u001b[1;33m\u001b[0m\u001b[1;33m\u001b[0m\u001b[0m\n\u001b[0m\u001b[0;32m    841\u001b[0m         \u001b[1;32mexcept\u001b[0m \u001b[0mHTTPError\u001b[0m \u001b[1;32mas\u001b[0m \u001b[0me\u001b[0m\u001b[1;33m:\u001b[0m\u001b[1;33m\u001b[0m\u001b[1;33m\u001b[0m\u001b[0m\n",
      "\u001b[1;32m~\\anaconda3\\lib\\urllib\\request.py\u001b[0m in \u001b[0;36murlopen\u001b[1;34m(url, data, timeout, cafile, capath, cadefault, context)\u001b[0m\n\u001b[0;32m    221\u001b[0m         \u001b[0mopener\u001b[0m \u001b[1;33m=\u001b[0m \u001b[0m_opener\u001b[0m\u001b[1;33m\u001b[0m\u001b[1;33m\u001b[0m\u001b[0m\n\u001b[1;32m--> 222\u001b[1;33m     \u001b[1;32mreturn\u001b[0m \u001b[0mopener\u001b[0m\u001b[1;33m.\u001b[0m\u001b[0mopen\u001b[0m\u001b[1;33m(\u001b[0m\u001b[0murl\u001b[0m\u001b[1;33m,\u001b[0m \u001b[0mdata\u001b[0m\u001b[1;33m,\u001b[0m \u001b[0mtimeout\u001b[0m\u001b[1;33m)\u001b[0m\u001b[1;33m\u001b[0m\u001b[1;33m\u001b[0m\u001b[0m\n\u001b[0m\u001b[0;32m    223\u001b[0m \u001b[1;33m\u001b[0m\u001b[0m\n",
      "\u001b[1;32m~\\anaconda3\\lib\\urllib\\request.py\u001b[0m in \u001b[0;36mopen\u001b[1;34m(self, fullurl, data, timeout)\u001b[0m\n\u001b[0;32m    530\u001b[0m             \u001b[0mmeth\u001b[0m \u001b[1;33m=\u001b[0m \u001b[0mgetattr\u001b[0m\u001b[1;33m(\u001b[0m\u001b[0mprocessor\u001b[0m\u001b[1;33m,\u001b[0m \u001b[0mmeth_name\u001b[0m\u001b[1;33m)\u001b[0m\u001b[1;33m\u001b[0m\u001b[1;33m\u001b[0m\u001b[0m\n\u001b[1;32m--> 531\u001b[1;33m             \u001b[0mresponse\u001b[0m \u001b[1;33m=\u001b[0m \u001b[0mmeth\u001b[0m\u001b[1;33m(\u001b[0m\u001b[0mreq\u001b[0m\u001b[1;33m,\u001b[0m \u001b[0mresponse\u001b[0m\u001b[1;33m)\u001b[0m\u001b[1;33m\u001b[0m\u001b[1;33m\u001b[0m\u001b[0m\n\u001b[0m\u001b[0;32m    532\u001b[0m \u001b[1;33m\u001b[0m\u001b[0m\n",
      "\u001b[1;32m~\\anaconda3\\lib\\urllib\\request.py\u001b[0m in \u001b[0;36mhttp_response\u001b[1;34m(self, request, response)\u001b[0m\n\u001b[0;32m    639\u001b[0m         \u001b[1;32mif\u001b[0m \u001b[1;32mnot\u001b[0m \u001b[1;33m(\u001b[0m\u001b[1;36m200\u001b[0m \u001b[1;33m<=\u001b[0m \u001b[0mcode\u001b[0m \u001b[1;33m<\u001b[0m \u001b[1;36m300\u001b[0m\u001b[1;33m)\u001b[0m\u001b[1;33m:\u001b[0m\u001b[1;33m\u001b[0m\u001b[1;33m\u001b[0m\u001b[0m\n\u001b[1;32m--> 640\u001b[1;33m             response = self.parent.error(\n\u001b[0m\u001b[0;32m    641\u001b[0m                 'http', request, response, code, msg, hdrs)\n",
      "\u001b[1;32m~\\anaconda3\\lib\\urllib\\request.py\u001b[0m in \u001b[0;36merror\u001b[1;34m(self, proto, *args)\u001b[0m\n\u001b[0;32m    568\u001b[0m             \u001b[0margs\u001b[0m \u001b[1;33m=\u001b[0m \u001b[1;33m(\u001b[0m\u001b[0mdict\u001b[0m\u001b[1;33m,\u001b[0m \u001b[1;34m'default'\u001b[0m\u001b[1;33m,\u001b[0m \u001b[1;34m'http_error_default'\u001b[0m\u001b[1;33m)\u001b[0m \u001b[1;33m+\u001b[0m \u001b[0morig_args\u001b[0m\u001b[1;33m\u001b[0m\u001b[1;33m\u001b[0m\u001b[0m\n\u001b[1;32m--> 569\u001b[1;33m             \u001b[1;32mreturn\u001b[0m \u001b[0mself\u001b[0m\u001b[1;33m.\u001b[0m\u001b[0m_call_chain\u001b[0m\u001b[1;33m(\u001b[0m\u001b[1;33m*\u001b[0m\u001b[0margs\u001b[0m\u001b[1;33m)\u001b[0m\u001b[1;33m\u001b[0m\u001b[1;33m\u001b[0m\u001b[0m\n\u001b[0m\u001b[0;32m    570\u001b[0m \u001b[1;33m\u001b[0m\u001b[0m\n",
      "\u001b[1;32m~\\anaconda3\\lib\\urllib\\request.py\u001b[0m in \u001b[0;36m_call_chain\u001b[1;34m(self, chain, kind, meth_name, *args)\u001b[0m\n\u001b[0;32m    501\u001b[0m             \u001b[0mfunc\u001b[0m \u001b[1;33m=\u001b[0m \u001b[0mgetattr\u001b[0m\u001b[1;33m(\u001b[0m\u001b[0mhandler\u001b[0m\u001b[1;33m,\u001b[0m \u001b[0mmeth_name\u001b[0m\u001b[1;33m)\u001b[0m\u001b[1;33m\u001b[0m\u001b[1;33m\u001b[0m\u001b[0m\n\u001b[1;32m--> 502\u001b[1;33m             \u001b[0mresult\u001b[0m \u001b[1;33m=\u001b[0m \u001b[0mfunc\u001b[0m\u001b[1;33m(\u001b[0m\u001b[1;33m*\u001b[0m\u001b[0margs\u001b[0m\u001b[1;33m)\u001b[0m\u001b[1;33m\u001b[0m\u001b[1;33m\u001b[0m\u001b[0m\n\u001b[0m\u001b[0;32m    503\u001b[0m             \u001b[1;32mif\u001b[0m \u001b[0mresult\u001b[0m \u001b[1;32mis\u001b[0m \u001b[1;32mnot\u001b[0m \u001b[1;32mNone\u001b[0m\u001b[1;33m:\u001b[0m\u001b[1;33m\u001b[0m\u001b[1;33m\u001b[0m\u001b[0m\n",
      "\u001b[1;32m~\\anaconda3\\lib\\urllib\\request.py\u001b[0m in \u001b[0;36mhttp_error_default\u001b[1;34m(self, req, fp, code, msg, hdrs)\u001b[0m\n\u001b[0;32m    648\u001b[0m     \u001b[1;32mdef\u001b[0m \u001b[0mhttp_error_default\u001b[0m\u001b[1;33m(\u001b[0m\u001b[0mself\u001b[0m\u001b[1;33m,\u001b[0m \u001b[0mreq\u001b[0m\u001b[1;33m,\u001b[0m \u001b[0mfp\u001b[0m\u001b[1;33m,\u001b[0m \u001b[0mcode\u001b[0m\u001b[1;33m,\u001b[0m \u001b[0mmsg\u001b[0m\u001b[1;33m,\u001b[0m \u001b[0mhdrs\u001b[0m\u001b[1;33m)\u001b[0m\u001b[1;33m:\u001b[0m\u001b[1;33m\u001b[0m\u001b[1;33m\u001b[0m\u001b[0m\n\u001b[1;32m--> 649\u001b[1;33m         \u001b[1;32mraise\u001b[0m \u001b[0mHTTPError\u001b[0m\u001b[1;33m(\u001b[0m\u001b[0mreq\u001b[0m\u001b[1;33m.\u001b[0m\u001b[0mfull_url\u001b[0m\u001b[1;33m,\u001b[0m \u001b[0mcode\u001b[0m\u001b[1;33m,\u001b[0m \u001b[0mmsg\u001b[0m\u001b[1;33m,\u001b[0m \u001b[0mhdrs\u001b[0m\u001b[1;33m,\u001b[0m \u001b[0mfp\u001b[0m\u001b[1;33m)\u001b[0m\u001b[1;33m\u001b[0m\u001b[1;33m\u001b[0m\u001b[0m\n\u001b[0m\u001b[0;32m    650\u001b[0m \u001b[1;33m\u001b[0m\u001b[0m\n",
      "\u001b[1;31mHTTPError\u001b[0m: HTTP Error 400: Bad Request",
      "\nDuring handling of the above exception, another exception occurred:\n",
      "\u001b[1;31mRequestError\u001b[0m                              Traceback (most recent call last)",
      "\u001b[1;32m<ipython-input-50-74f43ed7b5b5>\u001b[0m in \u001b[0;36m<module>\u001b[1;34m\u001b[0m\n\u001b[1;32m----> 1\u001b[1;33m speech_benedict_google = google_api(\n\u001b[0m\u001b[0;32m      2\u001b[0m     \u001b[1;34m\"Audio_files/20190111 ENGLISH SPEECH _ BENEDICT CUMBERBATCH - Just Do It! (English Subtitles).wav\"\u001b[0m\u001b[1;33m\u001b[0m\u001b[1;33m\u001b[0m\u001b[0m\n\u001b[0;32m      3\u001b[0m )\n",
      "\u001b[1;32m<ipython-input-17-ecdacce8ea2e>\u001b[0m in \u001b[0;36mgoogle_api\u001b[1;34m(audio_file_path)\u001b[0m\n\u001b[0;32m      4\u001b[0m     \u001b[1;32mwith\u001b[0m \u001b[0maudio\u001b[0m \u001b[1;32mas\u001b[0m \u001b[0msource\u001b[0m\u001b[1;33m:\u001b[0m\u001b[1;33m\u001b[0m\u001b[1;33m\u001b[0m\u001b[0m\n\u001b[0;32m      5\u001b[0m         \u001b[0maudio_script\u001b[0m \u001b[1;33m=\u001b[0m \u001b[0mr\u001b[0m\u001b[1;33m.\u001b[0m\u001b[0mrecord\u001b[0m\u001b[1;33m(\u001b[0m\u001b[0msource\u001b[0m\u001b[1;33m)\u001b[0m\u001b[1;33m\u001b[0m\u001b[1;33m\u001b[0m\u001b[0m\n\u001b[1;32m----> 6\u001b[1;33m     \u001b[0mres\u001b[0m \u001b[1;33m=\u001b[0m \u001b[0mr\u001b[0m\u001b[1;33m.\u001b[0m\u001b[0mrecognize_google\u001b[0m\u001b[1;33m(\u001b[0m\u001b[0maudio_script\u001b[0m\u001b[1;33m)\u001b[0m\u001b[1;33m\u001b[0m\u001b[1;33m\u001b[0m\u001b[0m\n\u001b[0m\u001b[0;32m      7\u001b[0m     \u001b[1;32mreturn\u001b[0m \u001b[0mres\u001b[0m\u001b[1;33m\u001b[0m\u001b[1;33m\u001b[0m\u001b[0m\n",
      "\u001b[1;32m~\\anaconda3\\lib\\site-packages\\speech_recognition\\__init__.py\u001b[0m in \u001b[0;36mrecognize_google\u001b[1;34m(self, audio_data, key, language, show_all)\u001b[0m\n\u001b[0;32m    840\u001b[0m             \u001b[0mresponse\u001b[0m \u001b[1;33m=\u001b[0m \u001b[0murlopen\u001b[0m\u001b[1;33m(\u001b[0m\u001b[0mrequest\u001b[0m\u001b[1;33m,\u001b[0m \u001b[0mtimeout\u001b[0m\u001b[1;33m=\u001b[0m\u001b[0mself\u001b[0m\u001b[1;33m.\u001b[0m\u001b[0moperation_timeout\u001b[0m\u001b[1;33m)\u001b[0m\u001b[1;33m\u001b[0m\u001b[1;33m\u001b[0m\u001b[0m\n\u001b[0;32m    841\u001b[0m         \u001b[1;32mexcept\u001b[0m \u001b[0mHTTPError\u001b[0m \u001b[1;32mas\u001b[0m \u001b[0me\u001b[0m\u001b[1;33m:\u001b[0m\u001b[1;33m\u001b[0m\u001b[1;33m\u001b[0m\u001b[0m\n\u001b[1;32m--> 842\u001b[1;33m             \u001b[1;32mraise\u001b[0m \u001b[0mRequestError\u001b[0m\u001b[1;33m(\u001b[0m\u001b[1;34m\"recognition request failed: {}\"\u001b[0m\u001b[1;33m.\u001b[0m\u001b[0mformat\u001b[0m\u001b[1;33m(\u001b[0m\u001b[0me\u001b[0m\u001b[1;33m.\u001b[0m\u001b[0mreason\u001b[0m\u001b[1;33m)\u001b[0m\u001b[1;33m)\u001b[0m\u001b[1;33m\u001b[0m\u001b[1;33m\u001b[0m\u001b[0m\n\u001b[0m\u001b[0;32m    843\u001b[0m         \u001b[1;32mexcept\u001b[0m \u001b[0mURLError\u001b[0m \u001b[1;32mas\u001b[0m \u001b[0me\u001b[0m\u001b[1;33m:\u001b[0m\u001b[1;33m\u001b[0m\u001b[1;33m\u001b[0m\u001b[0m\n\u001b[0;32m    844\u001b[0m             \u001b[1;32mraise\u001b[0m \u001b[0mRequestError\u001b[0m\u001b[1;33m(\u001b[0m\u001b[1;34m\"recognition connection failed: {}\"\u001b[0m\u001b[1;33m.\u001b[0m\u001b[0mformat\u001b[0m\u001b[1;33m(\u001b[0m\u001b[0me\u001b[0m\u001b[1;33m.\u001b[0m\u001b[0mreason\u001b[0m\u001b[1;33m)\u001b[0m\u001b[1;33m)\u001b[0m\u001b[1;33m\u001b[0m\u001b[1;33m\u001b[0m\u001b[0m\n",
      "\u001b[1;31mRequestError\u001b[0m: recognition request failed: Bad Request"
     ]
    }
   ],
   "source": [
    "speech_benedict_google = google_api(\n",
    "    \"Audio_files/20190111 ENGLISH SPEECH _ BENEDICT CUMBERBATCH - Just Do It! (English Subtitles).wav\"\n",
    ")"
   ]
  },
  {
   "cell_type": "code",
   "execution_count": null,
   "metadata": {},
   "outputs": [],
   "source": [
    "speech_benedict_google"
   ]
  },
  {
   "cell_type": "markdown",
   "metadata": {},
   "source": [
    "## Microsoft Azure"
   ]
  },
  {
   "cell_type": "code",
   "execution_count": 16,
   "metadata": {},
   "outputs": [
    {
     "name": "stdout",
     "output_type": "stream",
     "text": [
      "Requirement already satisfied: azure-cognitiveservices-speech in c:\\users\\badji\\appdata\\roaming\\python\\python38\\site-packages (1.14.0)\n"
     ]
    }
   ],
   "source": [
    "!pip install azure-cognitiveservices-speech"
   ]
  },
  {
   "cell_type": "raw",
   "metadata": {},
   "source": [
    "import azure.cognitiveservices.speech as speechsdk"
   ]
  },
  {
   "cell_type": "raw",
   "metadata": {},
   "source": [
    "# Import Python Libraries\n",
    "import glob\n",
    "import azure.cognitiveservices.speech as speechsdk\n",
    "import time\n",
    "import json\n",
    "import pandas as pd"
   ]
  },
  {
   "cell_type": "markdown",
   "metadata": {},
   "source": [
    "# Comparaison"
   ]
  },
  {
   "cell_type": "markdown",
   "metadata": {},
   "source": [
    "### Analyse grammaticale"
   ]
  },
  {
   "cell_type": "code",
   "execution_count": 37,
   "metadata": {},
   "outputs": [],
   "source": [
    "def get_error_scores(text): #returns (grammatical errors nb, grammatical errors percentage)\n",
    "    url = \"https://virtualwritingtutor.com/api/checkgrammar.php\"\n",
    "    headers = {\"Content-Type\" : \"application/x-www-form-urlencoded\"}\n",
    "    data = {\"appKey\" : \"deb81f80-2fca-11eb-b604-ff319903c933\",\n",
    "           \"text\" : text}\n",
    "    r = requests.post(url, headers=headers, data=data)\n",
    "    if r.status_code == 200:\n",
    "        content = r.json()\n",
    "        #print(content[\"check_grammar_feedback\"][0]['error_grammar'])\n",
    "        errors_nb = content['error_grammar_count_total']\n",
    "        error_percent = content['error_grammar_percent']\n",
    "        print(f\"Input text :\\n{text}\\n\\n\"\n",
    "              f\"Grammatical errors nb : {errors_nb}\\n\"\n",
    "              f\"Grammatical errors percent : {error_percent}\")\n",
    "        return int(errors_nb), int(error_percent[:-1])\n",
    "    else:\n",
    "        print(f\"Problem with request ! {r.status_code} error\")\n"
   ]
  },
  {
   "cell_type": "raw",
   "metadata": {},
   "source": [
    "#Exemple\n",
    "get_error_scores(\"He has go to beach by his friend Jane.\")"
   ]
  },
  {
   "cell_type": "markdown",
   "metadata": {},
   "source": [
    "#### Test 1 : The Society podcast"
   ]
  },
  {
   "cell_type": "code",
   "execution_count": 47,
   "metadata": {},
   "outputs": [
    {
     "name": "stdout",
     "output_type": "stream",
     "text": [
      "Input text :\n",
      "if we've just blown your ears off welcome to English across the pond the place on the internet for all your English language needs we are teachers we are English teachers we are English language teachers which are native speaking English language a lot of adjectives in it we are native speaking English language teachers I come from England I speak British English but the same English that is spoken by the queen good afternoon everybody I'm done hello hello I am I also okay I got you know the house going to try to say I speak the queen's English as well yes but I don't know because my name is Jennifer in ice I speak American I'm from the US so speak American English hello hi how are you how's life great well can you to record this episode I think it's going to be excited I guess talk about coop in the compound before we get into the opposite just to let you know everybody yes we hear every Friday this is a podcast to help you with your English we also have membership as well I've just been looking through a telegram group and I noted down this week we have had posts in our telegram group from members in Brazil Italy Poland Egypt Chile and Switzerland Hey Bruno %HESITATION so it really is a global community if you become a member and all of these beautiful people who've contributed this week have done so in English of course I may have the opportunity maybe where they're having breakfast maybe when they're just lounging around in the evening in their PJ's to get the chance the opportunity to communicate in \n",
      "\n",
      "Grammatical errors nb : 5\n",
      "Grammatical errors percent : 2%\n"
     ]
    },
    {
     "data": {
      "text/plain": [
       "1530"
      ]
     },
     "execution_count": 47,
     "metadata": {},
     "output_type": "execute_result"
    }
   ],
   "source": [
    "errors_society_watson = get_error_scores(society_script_watson)\n",
    "len(society_script_watson)"
   ]
  },
  {
   "cell_type": "code",
   "execution_count": 48,
   "metadata": {},
   "outputs": [
    {
     "name": "stdout",
     "output_type": "stream",
     "text": [
      "Input text :\n",
      "if we've just blown your ears off welcome to English across the pond V place on the internet for all your English language needs we are teachers we are English teachers we are English language teachers we are native speaker English language a lot of adjectives in it we are native speaker English language teachers I come from England I speak British English the same English that is spoken by the Queen good afternoon everybody I'm Dan hello I speak the Queen's English as well as life before we get into the episode just to let you know everybody yes we here every Friday this is a podcast to help you with your English we also have membership as well I've just been looking through our telegram group and I noted down this week we have had posts in our telegram group from members in Brazil Italy Poland Egypt chilli and Switzerland Bruno so it really is a global community if you become a member and all of these beautiful people who contributed this week have done so in English of course and they have the opportunity made when they're having breakfast maybe when they're just lounging around in the evening in their PJs to get the chance the opportunity to communicate\n",
      "\n",
      "Grammatical errors nb : 5\n",
      "Grammatical errors percent : 3%\n"
     ]
    },
    {
     "data": {
      "text/plain": [
       "1175"
      ]
     },
     "execution_count": 48,
     "metadata": {},
     "output_type": "execute_result"
    }
   ],
   "source": [
    "errors_society_google = get_error_scores(society_script_google)\n",
    "len(society_script_google)"
   ]
  },
  {
   "cell_type": "code",
   "execution_count": 41,
   "metadata": {},
   "outputs": [],
   "source": [
    "amazon = \"if we\\'ve just blown your ears off. Welcome to English. Across the pond. The place on the Internet for all your English language needs. We are teachers. We are English teachers. We are English language teachers. We are native speaker, English language. A lot of objectives in it. We are native speaker, English language teachers. I come from England. I speak British, English, the the same English that is spoken by the queen. Good afternoon, everybody. I\\'m Dan. Hello. Hello. I also I can\\'t. I got the hell. I was going to try to say I speak the Queen\\'s English as well. But I don\\'t because my name\\'s Jennifer and I I I speak American. I\\'m from the US So I speak American English. Hello. Hi. How are you? Hours. Life. Great. Wow. Killing to record this episode, I think it\\'s gonna be excited. I get to talk about co ops and compound before we get into the episodes. Just to let you know everybody. Yes, we\\'re here every Friday. This is a podcast to help you with your English. We also have membership is well. I\\'ve just been looking through our telegram group on bond. Mhm. I noted down this week we have had posts in our telegram group from members in Brazil, Italy, Poland, Egypt, Chili in Switzerland. Hey, Bruno s Oh, it really is a global community. If you become a member on, all of these beautiful people who\\'ve contributed this week have done so in English, of course. And they have the opportunity. Maybe when they\\'re having breakfast, maybe when they\\'re just lounging around in the evening in their PJs to get the chance, the opportunity to communicate in.\""
   ]
  },
  {
   "cell_type": "code",
   "execution_count": 49,
   "metadata": {},
   "outputs": [
    {
     "name": "stdout",
     "output_type": "stream",
     "text": [
      "Input text :\n",
      "if we've just blown your ears off. Welcome to English. Across the pond. The place on the Internet for all your English language needs. We are teachers. We are English teachers. We are English language teachers. We are native speaker, English language. A lot of objectives in it. We are native speaker, English language teachers. I come from England. I speak British, English, the the same English that is spoken by the queen. Good afternoon, everybody. I'm Dan. Hello. Hello. I also I can't. I got the hell. I was going to try to say I speak the Queen's English as well. But I don't because my name's Jennifer and I I I speak American. I'm from the US So I speak American English. Hello. Hi. How are you? Hours. Life. Great. Wow. Killing to record this episode, I think it's gonna be excited. I get to talk about co ops and compound before we get into the episodes. Just to let you know everybody. Yes, we're here every Friday. This is a podcast to help you with your English. We also have membership is well. I've just been looking through our telegram group on bond. Mhm. I noted down this week we have had posts in our telegram group from members in Brazil, Italy, Poland, Egypt, Chili in Switzerland. Hey, Bruno s Oh, it really is a global community. If you become a member on, all of these beautiful people who've contributed this week have done so in English, of course. And they have the opportunity. Maybe when they're having breakfast, maybe when they're just lounging around in the evening in their PJs to get the chance, the opportunity to communicate in.\n",
      "\n",
      "Grammatical errors nb : 7\n",
      "Grammatical errors percent : 3%\n"
     ]
    },
    {
     "data": {
      "text/plain": [
       "1566"
      ]
     },
     "execution_count": 49,
     "metadata": {},
     "output_type": "execute_result"
    }
   ],
   "source": [
    "errors_society_amazon = get_error_scores(amazon)\n",
    "len(amazon)"
   ]
  },
  {
   "cell_type": "markdown",
   "metadata": {},
   "source": [
    "#### Test 2 : Speech benedict audio from youtube video"
   ]
  },
  {
   "cell_type": "code",
   "execution_count": 53,
   "metadata": {},
   "outputs": [
    {
     "name": "stdout",
     "output_type": "stream",
     "text": [
      "Input text :\n",
      "%HESITATION YVR April fourteenth almost a month since you wrote to me and you were possibly forgotten your state of mind I doubt it though seem the same as always being you hate every minute of it don't learn to say **** you to the world every once in a while you have every right to just stop thank you worrying looking over your shoulder wondering doubting searing hurting hoping for some easy way out struggling grasping confusing itching scratching mumbling bumbling grumbling humbling stumbling no I'm calling rambling gambling tumbling scrambling scrambling moaning recalling no sticking now James told poking her pointing the way speaking while I'm waiting small stepping evil eye and back scratching searching perching biz marching grinding grinding grinding away at your or so hope it ends just %HESITATION from your description for what I know what your previous work in your ability to work you were doing sounds very good drawing clean clear pick crazy like machines larger and bolder real nonsense that sounds fine under full real monsters to more more nonsensical more crazy more machines more breasts **** cons whatever makes him a balcony with not since trying to kill something inside you you're we your humor you belong in the most secret part of you don't worry bout cruel make your own on tool make your own make your own world fear make it work for you draw and paint your fear and anxiety stop worrying about big deep things such as to decide on a purpose and way of life a consistent approach to even some impossible and or even on imagined and you must practice being stupid done %HESITATION I'm thinking M. T. then you will be able to %HESITATION much confidence in you even though you were tormenting yourself the work it was very good try to do something bad do some bad work the worst thing you could think of to see what happens but mainly relax and everything go to hell you are not responsible for the borough you're only responsible for your work so just I don't think that your work has to conform to any preconceived idea former flavor can be anything you wanted to be but if life would be easier for you if you stop working to stop don't punish yourself however I think this is so deeply ingrained in you that it would be better for you to do it seems I do understand your attitude somewhat anyway because I go through a similar process every now and again myself I have an agonizing reappraisal of my work and change everything as much as possible he'd everything I've done to try to do something entirely different and better and maybe that kind of process is necessary to me pushing me on and on and well if you if I could do better than that **** I just did maybe you need your agony to accomplish what you do or maybe it go do you want to do better but it's very painful I know would be better if you have the confidence just to do the stuff and not even think about it thank you read the world's art alone also quit fondling your ego I know that you are anyone can only work so much in the rest of the time you were left with your thoughts but we work or before you work you have to empty your mind to concentrate on what you were doing after you do something it is done and that's that after a while you can see sama better than others but also you can see what direction you're going sure you know all that you also must know that you don't have to justify your work not even to yourself well you know I admire your work greatly and can't understand why you're so bothered by it but you can see the next ones and I can't you also must believe in your ability I think you do so try the most outrageous things you Keren shock yourself you have at your power the ability to do anything I'd like to see your work and will have to be content to wait until Aug or sept seen photos of some of time some things at Lucy's they're very impressive especially the ones with more rigorous form of simple ones I guess it sounds more later on let me know how the shows are going that kind of stuff my work has changed since you left and it's much better I would be having show may fourth twenty ninth the Daniels gallery seventy two east and sixty fourth street where am requires we should be there Mitchell if you both so %HESITATION \n",
      "\n",
      "Grammatical errors nb : 32\n",
      "Grammatical errors percent : 5%\n"
     ]
    },
    {
     "data": {
      "text/plain": [
       "4263"
      ]
     },
     "execution_count": 53,
     "metadata": {},
     "output_type": "execute_result"
    }
   ],
   "source": [
    "errors_speech_watson = get_error_scores(speech_benedict_script)\n",
    "len(speech_benedict_script)"
   ]
  },
  {
   "cell_type": "code",
   "execution_count": 45,
   "metadata": {},
   "outputs": [],
   "source": [
    "speech_amazon = \"the river April 14th almost a month since you wrote to me and you have possibly forgot in your state of mind I doubt it though Seem the same as always and being you hate every minute of it Don't learn to say fuck you to the world Every once in a while you have every right to just stop thinking worrying looking over your shoulder wondering doubting fearing hurting hoping for some easy way out struggling grasping confusing itching scratching mumbling bumbling grumbling humbling stumbling numb bling rambling gambling tumbling stumbling scrambling hitching hatching pitching moaning groaning honing boning horse shitting hair splitting nit picking piss trickling no sticking ass Cao Jing eyeball poking finger pointing alleyway sneaking long waiting small stepping evil lying back scratching searching perching besmirching grinding grinding grinding away at yourself Stop it and just do from your description for what I know of your previous work in your ability to work you were doing sounds very good Drawing clean clear a bit crazy like machines Larger and bolder Riel Nonsense That sounds fine Wonderful riel Nonsense Do more more nonsensical more crazy More machines more breasts penises cunts whatever Make them abound with nonsense try and tickle something inside you Your weird humor You belong in the most secret part of you Don't worry about cool Make your own un cool Make your own Make your own world if you fear Make it work for you Draw and paint your fear and anxiety and stop worrying about big deep things such as to decide on a purpose and way of life A consistent approach to even some impossible end or even a nun imagined end You must practice being stupid dumb unthinking empty Then you will be able to do much confidence in you And even though you are term ending yourself the work you do is very good Try to do something bad try to do some bad work The worst thing you could think of to see what happens But mainly relax and let everything go to hell You are not responsible for the world You're on Lee responsible for your work so just do it I don't think that your work has to conform to any preconceived idea for more flavor It could be anything you want it to be But if life would be easier for you if you stop working Then stop Don't punish yourself However I think that this is so deeply ingrained in you that it would be better for you to do it Seems I do understand your attitude somewhat anyway because I go through a similar process every now and again myself I haven't agonizing reappraisal of my work and changed everything as much as possible and hate everything I've done and try to do something entirely different and better Maybe that kind of process is necessary to me pushing me on and on and well the feeling that I could do better than that shit I just did Maybe you need your agony to accomplish what you do and maybe it goes you on to do better but it's very painful I know it would be better if you had the confidence just to do this stuff and not even think about it Can't you leave the world art alone Also quit fondling your ego I know that you or anyone can only work so much and the rest of the time you were left with your thoughts But when you work or before you work you have to empty your mind and concentrate on what you were doing After you do something it is done And that's that After a while you can see some better than others But also you can see what direction you're going Sure you know all that You also must know that you don't have to justify your work not even to yourself Well you know I admire your work greatly and can't understand why you're so bothered by it But you can see the next ones and I can't You also must believe in your ability I think you do So try the most outrageous things you can shock yourself You have at your power the ability to do anything I'd like to see Your working will have to be content to wait until August cept I've seen photos of some of times and you think that Lucy's They're very impressive especially the ones with more rigorous form that simpler ones I guess you'll send some more later on Let me know how the show's air going in that kind of stuff My work has changed since you left and it's much better Yeah I would be having a show May 4th 29th The Daniels Gallery 70 East and 64th Street Where Emmerich waas I wish you could be there Much love to you both Salt Yeah whole\""
   ]
  },
  {
   "cell_type": "code",
   "execution_count": 46,
   "metadata": {},
   "outputs": [
    {
     "name": "stdout",
     "output_type": "stream",
     "text": [
      "Input text :\n",
      "the river April 14th almost a month since you wrote to me and you have possibly forgot in your state of mind I doubt it though Seem the same as always and being you hate every minute of it Don't learn to say fuck you to the world Every once in a while you have every right to just stop thinking worrying looking over your shoulder wondering doubting fearing hurting hoping for some easy way out struggling grasping confusing itching scratching mumbling bumbling grumbling humbling stumbling numb bling rambling gambling tumbling stumbling scrambling hitching hatching pitching moaning groaning honing boning horse shitting hair splitting nit picking piss trickling no sticking ass Cao Jing eyeball poking finger pointing alleyway sneaking long waiting small stepping evil lying back scratching searching perching besmirching grinding grinding grinding away at yourself Stop it and just do from your description for what I know of your previous work in your ability to work you were doing sounds very good Drawing clean clear a bit crazy like machines Larger and bolder Riel Nonsense That sounds fine Wonderful riel Nonsense Do more more nonsensical more crazy More machines more breasts penises cunts whatever Make them abound with nonsense try and tickle something inside you Your weird humor You belong in the most secret part of you Don't worry about cool Make your own un cool Make your own Make your own world if you fear Make it work for you Draw and paint your fear and anxiety and stop worrying about big deep things such as to decide on a purpose and way of life A consistent approach to even some impossible end or even a nun imagined end You must practice being stupid dumb unthinking empty Then you will be able to do much confidence in you And even though you are term ending yourself the work you do is very good Try to do something bad try to do some bad work The worst thing you could think of to see what happens But mainly relax and let everything go to hell You are not responsible for the world You're on Lee responsible for your work so just do it I don't think that your work has to conform to any preconceived idea for more flavor It could be anything you want it to be But if life would be easier for you if you stop working Then stop Don't punish yourself However I think that this is so deeply ingrained in you that it would be better for you to do it Seems I do understand your attitude somewhat anyway because I go through a similar process every now and again myself I haven't agonizing reappraisal of my work and changed everything as much as possible and hate everything I've done and try to do something entirely different and better Maybe that kind of process is necessary to me pushing me on and on and well the feeling that I could do better than that shit I just did Maybe you need your agony to accomplish what you do and maybe it goes you on to do better but it's very painful I know it would be better if you had the confidence just to do this stuff and not even think about it Can't you leave the world art alone Also quit fondling your ego I know that you or anyone can only work so much and the rest of the time you were left with your thoughts But when you work or before you work you have to empty your mind and concentrate on what you were doing After you do something it is done And that's that After a while you can see some better than others But also you can see what direction you're going Sure you know all that You also must know that you don't have to justify your work not even to yourself Well you know I admire your work greatly and can't understand why you're so bothered by it But you can see the next ones and I can't You also must believe in your ability I think you do So try the most outrageous things you can shock yourself You have at your power the ability to do anything I'd like to see Your working will have to be content to wait until August cept I've seen photos of some of times and you think that Lucy's They're very impressive especially the ones with more rigorous form that simpler ones I guess you'll send some more later on Let me know how the show's air going in that kind of stuff My work has changed since you left and it's much better Yeah I would be having a show May 4th 29th The Daniels Gallery 70 East and 64th Street Where Emmerich waas I wish you could be there Much love to you both Salt Yeah whole\n",
      "\n",
      "Grammatical errors nb : 37\n",
      "Grammatical errors percent : 5%\n"
     ]
    }
   ],
   "source": [
    "errors_speech_amazon = get_error_scores(speech_amazon)"
   ]
  },
  {
   "cell_type": "code",
   "execution_count": null,
   "metadata": {},
   "outputs": [],
   "source": []
  },
  {
   "cell_type": "code",
   "execution_count": null,
   "metadata": {},
   "outputs": [],
   "source": []
  },
  {
   "cell_type": "code",
   "execution_count": null,
   "metadata": {},
   "outputs": [],
   "source": []
  },
  {
   "cell_type": "code",
   "execution_count": null,
   "metadata": {},
   "outputs": [],
   "source": []
  },
  {
   "cell_type": "code",
   "execution_count": null,
   "metadata": {},
   "outputs": [],
   "source": []
  },
  {
   "cell_type": "code",
   "execution_count": null,
   "metadata": {},
   "outputs": [],
   "source": []
  },
  {
   "cell_type": "code",
   "execution_count": null,
   "metadata": {},
   "outputs": [],
   "source": [
    "import pandas as pd\n",
    "import numpy as np\n",
    "\n",
    "columns = [\"IBM Watson\", \"Google\"]\n"
   ]
  }
 ],
 "metadata": {
  "kernelspec": {
   "display_name": "Python 3",
   "language": "python",
   "name": "python3"
  },
  "language_info": {
   "codemirror_mode": {
    "name": "ipython",
    "version": 3
   },
   "file_extension": ".py",
   "mimetype": "text/x-python",
   "name": "python",
   "nbconvert_exporter": "python",
   "pygments_lexer": "ipython3",
   "version": "3.8.3"
  }
 },
 "nbformat": 4,
 "nbformat_minor": 4
}
